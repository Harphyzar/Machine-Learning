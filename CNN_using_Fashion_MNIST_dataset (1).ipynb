{
  "nbformat": 4,
  "nbformat_minor": 0,
  "metadata": {
    "colab": {
      "provenance": []
    },
    "kernelspec": {
      "name": "python3",
      "display_name": "Python 3"
    },
    "language_info": {
      "name": "python"
    },
    "accelerator": "GPU",
    "gpuClass": "standard"
  },
  "cells": [
    {
      "cell_type": "code",
      "source": [
        "from google.colab import drive\n",
        "drive.mount('/content/drive')"
      ],
      "metadata": {
        "id": "h8n9v8lC36jf",
        "colab": {
          "base_uri": "https://localhost:8080/"
        },
        "outputId": "6ed56d84-f525-4216-d9b4-0e4290d972d4"
      },
      "execution_count": null,
      "outputs": [
        {
          "output_type": "stream",
          "name": "stdout",
          "text": [
            "Mounted at /content/drive\n"
          ]
        }
      ]
    },
    {
      "cell_type": "markdown",
      "source": [
        "# **Introduction**\n",
        "\n",
        "Zalando, a fashion e-commerce company based in Berlin, Germany, has operations in several European countries. The company noticed that the standard MNIST dataset is easy for most advanced neural nets,Zalando is looking to replace the original MNIST dataset. so they decided to create a more difficult set. .This data set was gotten from Kaggle: https://www.kaggle.com/datasets/zalando-research/fashionmnist?resource=download\n",
        "\n",
        "This task will be carried out using CNN. CNN stands for Convolutional Neural Network, which is a type of deep learning algorithm commonly used in image recognition and classification tasks. It consists of multiple layers of interconnected neurons that are designed to recognize patterns and features in images, allowing the network to classify images into different categories. CNNs are particularly useful for tasks such as object detection and image segmentation, and have been widely used in applications such as image search engines, facial recognition systems, and self-driving cars. In this task, I'll be using it in a fashion Scenario."
      ],
      "metadata": {
        "id": "H3najQ_byNlY"
      }
    },
    {
      "cell_type": "markdown",
      "source": [
        "\n",
        "#**Dataset**"
      ],
      "metadata": {
        "id": "Aujb074fyXhI"
      }
    },
    {
      "cell_type": "markdown",
      "source": [
        "**Importing modules**"
      ],
      "metadata": {
        "id": "Xd8D-iUj44kH"
      }
    },
    {
      "cell_type": "code",
      "source": [
        "import numpy as np                                   #  for linear algebra\n",
        "import pandas as pd  \n",
        "import seaborn as sns                                #processing data, and reading csv file)\n",
        "import matplotlib.pyplot as plt                      # for plotting data\n",
        "from sklearn.model_selection import train_test_split # to split data set into training and testing sets\n",
        "import warnings                                      # libraries to limit  warnings\n",
        "warnings.filterwarnings(\"ignore\")\n",
        "\n",
        "import keras # main keras package\n",
        "from keras.models import Sequential # sequential model\n",
        "from keras.layers import Dropout, Flatten, AveragePooling2D # layers with layers operations\n",
        "from keras.layers import Dense,Conv2D  # layers types\n",
        "from tensorflow.keras.layers import BatchNormalization\n",
        "\n",
        "from tensorflow.keras.models import Sequential\n",
        "from tensorflow.keras.layers import Dense, Conv2D\n",
        "from tensorflow.keras.layers import Dropout\n",
        "from tensorflow.keras.layers import Flatten\n",
        "from tensorflow.keras.optimizers import SGD, Adam\n",
        "from keras.layers.convolutional import Convolution2D\n",
        "from keras.layers.convolutional import MaxPooling2D\n",
        "\n"
      ],
      "metadata": {
        "id": "ZVDKA4PH3j1D"
      },
      "execution_count": null,
      "outputs": []
    },
    {
      "cell_type": "markdown",
      "source": [
        "**Loading the dataset**"
      ],
      "metadata": {
        "id": "vkIRcuYS6OzS"
      }
    },
    {
      "cell_type": "code",
      "source": [
        "df_train = pd.read_csv('/content/drive/MyDrive/Colab Notebooks/fashion-mnist_train.csv')\n",
        "df_test= pd.read_csv('/content/drive/MyDrive/Colab Notebooks/fashion-mnist_test.csv')"
      ],
      "metadata": {
        "id": "yAveCovf33O4"
      },
      "execution_count": null,
      "outputs": []
    },
    {
      "cell_type": "code",
      "source": [
        "df_train.head()  #checking the head of our dataset."
      ],
      "metadata": {
        "colab": {
          "base_uri": "https://localhost:8080/",
          "height": 300
        },
        "id": "EZ9-nnQj9A8X",
        "outputId": "9c5cf737-66df-4b91-bbcc-ebe74f094b8b"
      },
      "execution_count": null,
      "outputs": [
        {
          "output_type": "execute_result",
          "data": {
            "text/plain": [
              "   label  pixel1  pixel2  pixel3  pixel4  pixel5  pixel6  pixel7  pixel8  \\\n",
              "0      2       0       0       0       0       0       0       0       0   \n",
              "1      9       0       0       0       0       0       0       0       0   \n",
              "2      6       0       0       0       0       0       0       0       5   \n",
              "3      0       0       0       0       1       2       0       0       0   \n",
              "4      3       0       0       0       0       0       0       0       0   \n",
              "\n",
              "   pixel9  ...  pixel775  pixel776  pixel777  pixel778  pixel779  pixel780  \\\n",
              "0       0  ...         0         0         0         0         0         0   \n",
              "1       0  ...         0         0         0         0         0         0   \n",
              "2       0  ...         0         0         0        30        43         0   \n",
              "3       0  ...         3         0         0         0         0         1   \n",
              "4       0  ...         0         0         0         0         0         0   \n",
              "\n",
              "   pixel781  pixel782  pixel783  pixel784  \n",
              "0         0         0         0         0  \n",
              "1         0         0         0         0  \n",
              "2         0         0         0         0  \n",
              "3         0         0         0         0  \n",
              "4         0         0         0         0  \n",
              "\n",
              "[5 rows x 785 columns]"
            ],
            "text/html": [
              "\n",
              "  <div id=\"df-27fa94f4-0714-4a20-a290-e84df5067c19\">\n",
              "    <div class=\"colab-df-container\">\n",
              "      <div>\n",
              "<style scoped>\n",
              "    .dataframe tbody tr th:only-of-type {\n",
              "        vertical-align: middle;\n",
              "    }\n",
              "\n",
              "    .dataframe tbody tr th {\n",
              "        vertical-align: top;\n",
              "    }\n",
              "\n",
              "    .dataframe thead th {\n",
              "        text-align: right;\n",
              "    }\n",
              "</style>\n",
              "<table border=\"1\" class=\"dataframe\">\n",
              "  <thead>\n",
              "    <tr style=\"text-align: right;\">\n",
              "      <th></th>\n",
              "      <th>label</th>\n",
              "      <th>pixel1</th>\n",
              "      <th>pixel2</th>\n",
              "      <th>pixel3</th>\n",
              "      <th>pixel4</th>\n",
              "      <th>pixel5</th>\n",
              "      <th>pixel6</th>\n",
              "      <th>pixel7</th>\n",
              "      <th>pixel8</th>\n",
              "      <th>pixel9</th>\n",
              "      <th>...</th>\n",
              "      <th>pixel775</th>\n",
              "      <th>pixel776</th>\n",
              "      <th>pixel777</th>\n",
              "      <th>pixel778</th>\n",
              "      <th>pixel779</th>\n",
              "      <th>pixel780</th>\n",
              "      <th>pixel781</th>\n",
              "      <th>pixel782</th>\n",
              "      <th>pixel783</th>\n",
              "      <th>pixel784</th>\n",
              "    </tr>\n",
              "  </thead>\n",
              "  <tbody>\n",
              "    <tr>\n",
              "      <th>0</th>\n",
              "      <td>2</td>\n",
              "      <td>0</td>\n",
              "      <td>0</td>\n",
              "      <td>0</td>\n",
              "      <td>0</td>\n",
              "      <td>0</td>\n",
              "      <td>0</td>\n",
              "      <td>0</td>\n",
              "      <td>0</td>\n",
              "      <td>0</td>\n",
              "      <td>...</td>\n",
              "      <td>0</td>\n",
              "      <td>0</td>\n",
              "      <td>0</td>\n",
              "      <td>0</td>\n",
              "      <td>0</td>\n",
              "      <td>0</td>\n",
              "      <td>0</td>\n",
              "      <td>0</td>\n",
              "      <td>0</td>\n",
              "      <td>0</td>\n",
              "    </tr>\n",
              "    <tr>\n",
              "      <th>1</th>\n",
              "      <td>9</td>\n",
              "      <td>0</td>\n",
              "      <td>0</td>\n",
              "      <td>0</td>\n",
              "      <td>0</td>\n",
              "      <td>0</td>\n",
              "      <td>0</td>\n",
              "      <td>0</td>\n",
              "      <td>0</td>\n",
              "      <td>0</td>\n",
              "      <td>...</td>\n",
              "      <td>0</td>\n",
              "      <td>0</td>\n",
              "      <td>0</td>\n",
              "      <td>0</td>\n",
              "      <td>0</td>\n",
              "      <td>0</td>\n",
              "      <td>0</td>\n",
              "      <td>0</td>\n",
              "      <td>0</td>\n",
              "      <td>0</td>\n",
              "    </tr>\n",
              "    <tr>\n",
              "      <th>2</th>\n",
              "      <td>6</td>\n",
              "      <td>0</td>\n",
              "      <td>0</td>\n",
              "      <td>0</td>\n",
              "      <td>0</td>\n",
              "      <td>0</td>\n",
              "      <td>0</td>\n",
              "      <td>0</td>\n",
              "      <td>5</td>\n",
              "      <td>0</td>\n",
              "      <td>...</td>\n",
              "      <td>0</td>\n",
              "      <td>0</td>\n",
              "      <td>0</td>\n",
              "      <td>30</td>\n",
              "      <td>43</td>\n",
              "      <td>0</td>\n",
              "      <td>0</td>\n",
              "      <td>0</td>\n",
              "      <td>0</td>\n",
              "      <td>0</td>\n",
              "    </tr>\n",
              "    <tr>\n",
              "      <th>3</th>\n",
              "      <td>0</td>\n",
              "      <td>0</td>\n",
              "      <td>0</td>\n",
              "      <td>0</td>\n",
              "      <td>1</td>\n",
              "      <td>2</td>\n",
              "      <td>0</td>\n",
              "      <td>0</td>\n",
              "      <td>0</td>\n",
              "      <td>0</td>\n",
              "      <td>...</td>\n",
              "      <td>3</td>\n",
              "      <td>0</td>\n",
              "      <td>0</td>\n",
              "      <td>0</td>\n",
              "      <td>0</td>\n",
              "      <td>1</td>\n",
              "      <td>0</td>\n",
              "      <td>0</td>\n",
              "      <td>0</td>\n",
              "      <td>0</td>\n",
              "    </tr>\n",
              "    <tr>\n",
              "      <th>4</th>\n",
              "      <td>3</td>\n",
              "      <td>0</td>\n",
              "      <td>0</td>\n",
              "      <td>0</td>\n",
              "      <td>0</td>\n",
              "      <td>0</td>\n",
              "      <td>0</td>\n",
              "      <td>0</td>\n",
              "      <td>0</td>\n",
              "      <td>0</td>\n",
              "      <td>...</td>\n",
              "      <td>0</td>\n",
              "      <td>0</td>\n",
              "      <td>0</td>\n",
              "      <td>0</td>\n",
              "      <td>0</td>\n",
              "      <td>0</td>\n",
              "      <td>0</td>\n",
              "      <td>0</td>\n",
              "      <td>0</td>\n",
              "      <td>0</td>\n",
              "    </tr>\n",
              "  </tbody>\n",
              "</table>\n",
              "<p>5 rows × 785 columns</p>\n",
              "</div>\n",
              "      <button class=\"colab-df-convert\" onclick=\"convertToInteractive('df-27fa94f4-0714-4a20-a290-e84df5067c19')\"\n",
              "              title=\"Convert this dataframe to an interactive table.\"\n",
              "              style=\"display:none;\">\n",
              "        \n",
              "  <svg xmlns=\"http://www.w3.org/2000/svg\" height=\"24px\"viewBox=\"0 0 24 24\"\n",
              "       width=\"24px\">\n",
              "    <path d=\"M0 0h24v24H0V0z\" fill=\"none\"/>\n",
              "    <path d=\"M18.56 5.44l.94 2.06.94-2.06 2.06-.94-2.06-.94-.94-2.06-.94 2.06-2.06.94zm-11 1L8.5 8.5l.94-2.06 2.06-.94-2.06-.94L8.5 2.5l-.94 2.06-2.06.94zm10 10l.94 2.06.94-2.06 2.06-.94-2.06-.94-.94-2.06-.94 2.06-2.06.94z\"/><path d=\"M17.41 7.96l-1.37-1.37c-.4-.4-.92-.59-1.43-.59-.52 0-1.04.2-1.43.59L10.3 9.45l-7.72 7.72c-.78.78-.78 2.05 0 2.83L4 21.41c.39.39.9.59 1.41.59.51 0 1.02-.2 1.41-.59l7.78-7.78 2.81-2.81c.8-.78.8-2.07 0-2.86zM5.41 20L4 18.59l7.72-7.72 1.47 1.35L5.41 20z\"/>\n",
              "  </svg>\n",
              "      </button>\n",
              "      \n",
              "  <style>\n",
              "    .colab-df-container {\n",
              "      display:flex;\n",
              "      flex-wrap:wrap;\n",
              "      gap: 12px;\n",
              "    }\n",
              "\n",
              "    .colab-df-convert {\n",
              "      background-color: #E8F0FE;\n",
              "      border: none;\n",
              "      border-radius: 50%;\n",
              "      cursor: pointer;\n",
              "      display: none;\n",
              "      fill: #1967D2;\n",
              "      height: 32px;\n",
              "      padding: 0 0 0 0;\n",
              "      width: 32px;\n",
              "    }\n",
              "\n",
              "    .colab-df-convert:hover {\n",
              "      background-color: #E2EBFA;\n",
              "      box-shadow: 0px 1px 2px rgba(60, 64, 67, 0.3), 0px 1px 3px 1px rgba(60, 64, 67, 0.15);\n",
              "      fill: #174EA6;\n",
              "    }\n",
              "\n",
              "    [theme=dark] .colab-df-convert {\n",
              "      background-color: #3B4455;\n",
              "      fill: #D2E3FC;\n",
              "    }\n",
              "\n",
              "    [theme=dark] .colab-df-convert:hover {\n",
              "      background-color: #434B5C;\n",
              "      box-shadow: 0px 1px 3px 1px rgba(0, 0, 0, 0.15);\n",
              "      filter: drop-shadow(0px 1px 2px rgba(0, 0, 0, 0.3));\n",
              "      fill: #FFFFFF;\n",
              "    }\n",
              "  </style>\n",
              "\n",
              "      <script>\n",
              "        const buttonEl =\n",
              "          document.querySelector('#df-27fa94f4-0714-4a20-a290-e84df5067c19 button.colab-df-convert');\n",
              "        buttonEl.style.display =\n",
              "          google.colab.kernel.accessAllowed ? 'block' : 'none';\n",
              "\n",
              "        async function convertToInteractive(key) {\n",
              "          const element = document.querySelector('#df-27fa94f4-0714-4a20-a290-e84df5067c19');\n",
              "          const dataTable =\n",
              "            await google.colab.kernel.invokeFunction('convertToInteractive',\n",
              "                                                     [key], {});\n",
              "          if (!dataTable) return;\n",
              "\n",
              "          const docLinkHtml = 'Like what you see? Visit the ' +\n",
              "            '<a target=\"_blank\" href=https://colab.research.google.com/notebooks/data_table.ipynb>data table notebook</a>'\n",
              "            + ' to learn more about interactive tables.';\n",
              "          element.innerHTML = '';\n",
              "          dataTable['output_type'] = 'display_data';\n",
              "          await google.colab.output.renderOutput(dataTable, element);\n",
              "          const docLink = document.createElement('div');\n",
              "          docLink.innerHTML = docLinkHtml;\n",
              "          element.appendChild(docLink);\n",
              "        }\n",
              "      </script>\n",
              "    </div>\n",
              "  </div>\n",
              "  "
            ]
          },
          "metadata": {},
          "execution_count": 4
        }
      ]
    },
    {
      "cell_type": "code",
      "source": [
        "len(df_train)"
      ],
      "metadata": {
        "colab": {
          "base_uri": "https://localhost:8080/"
        },
        "id": "eCtxKx6g9iqy",
        "outputId": "1ef0148a-4be2-43b5-bdc0-7ebe6db4caa7"
      },
      "execution_count": null,
      "outputs": [
        {
          "output_type": "execute_result",
          "data": {
            "text/plain": [
              "60000"
            ]
          },
          "metadata": {},
          "execution_count": 6
        }
      ]
    },
    {
      "cell_type": "markdown",
      "source": [
        "It can be useful to examine the distribution of pixel values by creating a histogram of a subset of 1000 images using the matplotlib histogram function. The \"histtype\" parameter can be set to \"step\" to reduce computation time."
      ],
      "metadata": {
        "id": "vvmEo3xAA8I9"
      }
    },
    {
      "cell_type": "code",
      "source": [
        "\n",
        "subset_1 = df_train.iloc[:1000,1:]\n",
        "plt.subplots(figsize=(10,5))\n",
        "plt.hist(subset_1, bins=256, fc='k', ec='k',histtype='step')\n",
        "plt.show()"
      ],
      "metadata": {
        "colab": {
          "base_uri": "https://localhost:8080/",
          "height": 320
        },
        "id": "HwEGVWZ79ik4",
        "outputId": "82d136ff-c00a-49e7-bfd9-af8da788a352"
      },
      "execution_count": null,
      "outputs": [
        {
          "output_type": "display_data",
          "data": {
            "text/plain": [
              "<Figure size 720x360 with 1 Axes>"
            ],
            "image/png": "[encoded data removed]"
          },
          "metadata": {
            "needs_background": "light"
          }
        }
      ]
    },
    {
      "cell_type": "code",
      "source": [],
      "metadata": {
        "id": "hjVHdFGMHOc-"
      },
      "execution_count": null,
      "outputs": []
    },
    {
      "cell_type": "code",
      "source": [
        "class_names = ['T-shirt/top', 'Trouser', 'Pullover', 'Dress', 'Coat', \n",
        "               'Sandal', 'Shirt', 'Sneaker', 'Bag', 'Ankle boot']"
      ],
      "metadata": {
        "id": "5gBm8qq29icQ"
      },
      "execution_count": null,
      "outputs": []
    },
    {
      "cell_type": "code",
      "source": [
        "\n",
        "\n"
      ],
      "metadata": {
        "id": "uU5oBfAGHuli"
      },
      "execution_count": null,
      "outputs": []
    },
    {
      "cell_type": "code",
      "source": [
        "plt.figure(figsize=(12,9))\n",
        "for i in range(0,12):\n",
        "    plt.subplot(3,4,i+1)\n",
        "    image_resized = np.resize(df_train.iloc[i,1:].values,(28,28))\n",
        "    plt.title(class_names[df_train.iloc[i,0]])\n",
        "    plt.imshow(image_resized, cmap='gray', interpolation='none')\n",
        "    plt.axis('off')"
      ],
      "metadata": {
        "colab": {
          "base_uri": "https://localhost:8080/",
          "height": 496
        },
        "id": "Z5GNf7k0BcsI",
        "outputId": "e3c010c5-0d29-49f8-abe8-5b639b201a95"
      },
      "execution_count": null,
      "outputs": [
        {
          "output_type": "display_data",
          "data": {
            "text/plain": [
              "<Figure size 864x648 with 12 Axes>"
            ],
            "image/png": "[encoded data removed]"
          },
          "metadata": {
            "needs_background": "light"
          }
        }
      ]
    },
    {
      "cell_type": "markdown",
      "source": [
        "# Converting the dataframe to a numpy arrays\n",
        "\n",
        "To prepare the data for machine learning, we need to convert the images' labels from a dataframe to a numpy array. The labels are categorical, so we need to one-hot encode them. This can be done using functions such as keras' to_categorical, pandas' get_dummies, or sklearn's OneHotEncoder.\n",
        "\n",
        "---\n",
        "\n",
        "\n",
        "\n",
        "\n",
        "\n"
      ],
      "metadata": {
        "id": "B8T3EBthFu2G"
      }
    },
    {
      "cell_type": "code",
      "source": [
        "X = np.array(df_train.iloc[:, 1:])\n",
        "y = pd.get_dummies(np.array(df_train.iloc[:, 0]))"
      ],
      "metadata": {
        "id": "LtzPF2QiGNU7"
      },
      "execution_count": null,
      "outputs": []
    },
    {
      "cell_type": "markdown",
      "source": [
        "# Validation split\n",
        "\n",
        "Sklearn train_test_split will be used to perform this operation. In this case, it will be more like train-validation split as this validation set will be used during the compilation of the model. The real test set will be presented in a separate .csv file."
      ],
      "metadata": {
        "id": "upQY3si-JU1Y"
      }
    },
    {
      "cell_type": "code",
      "source": [
        "X_train, X_validate, y_train, y_validate = train_test_split(X, y, test_size=0.2, random_state=12)"
      ],
      "metadata": {
        "id": "U33siyG_EDp6"
      },
      "execution_count": null,
      "outputs": []
    },
    {
      "cell_type": "markdown",
      "source": [
        "**Reshaping and splitting the data before using it on CNN**\n",
        "\n",
        "The data consists of 28x28 pixel, black and white images with only one channel. If the images were colored, there would be three channels (RGB). To build a successful CNN model, it is necessary to split the data into three sets: training, validation, and test. In this case, the validation set will be created explicitly, but if the data is shuffled, the validation_split parameter can be used when fitting the model.\n",
        "\n"
      ],
      "metadata": {
        "id": "jsJcjBocK5oP"
      }
    },
    {
      "cell_type": "code",
      "source": [
        "im_rows, im_cols = 28, 28\n",
        "input_shape = (im_rows, im_cols, 1)\n",
        "\n",
        "# Test data\n",
        "X_test = np.array(df_test.iloc[:, 1:])\n",
        "y_test = pd.get_dummies(np.array(df_test.iloc[:, 0]))\n",
        "\n",
        "# train and validate sets\n",
        "X_train = X_train.reshape(X_train.shape[0], im_rows, im_cols, 1)\n",
        "X_validate = X_validate.reshape(X_validate.shape[0], im_rows, im_cols, 1)\n",
        "X_test = X_test.reshape(X_test.shape[0], im_rows, im_cols, 1)\n",
        "\n",
        "# normalisation\n",
        "X_train = X_train/255\n",
        "X_validate = X_validate/255\n",
        "X_test = X_test/255\n",
        "\n",
        "print(\"X_train shape:\", X_train.shape)\n",
        "print(\"X_validate shape:\", X_validate.shape)\n",
        "print(\"X_test shape:\", X_test.shape)\n",
        "print(\"y_train shape:\", y_train.shape)\n",
        "print(\"y_validate shape:\", y_validate.shape)\n",
        "print(\"y_test shape:\", y_test.shape)"
      ],
      "metadata": {
        "colab": {
          "base_uri": "https://localhost:8080/"
        },
        "id": "b8m3eyG0MiLN",
        "outputId": "4894901e-2cd5-4216-e925-3ec2ba608afb"
      },
      "execution_count": null,
      "outputs": [
        {
          "output_type": "stream",
          "name": "stdout",
          "text": [
            "X_train shape: (48000, 28, 28, 1)\n",
            "X_validate shape: (12000, 28, 28, 1)\n",
            "X_test shape: (10000, 28, 28, 1)\n",
            "y_train shape: (48000, 10)\n",
            "y_validate shape: (12000, 10)\n",
            "y_test shape: (10000, 10)\n"
          ]
        }
      ]
    },
    {
      "cell_type": "markdown",
      "source": [
        "\n",
        "\n",
        "#**Chosen Algorithm for comparison**"
      ],
      "metadata": {
        "id": "F200Jiivye3f"
      }
    },
    {
      "cell_type": "markdown",
      "source": [
        "For the purpose of the comparison given in the task, the LeNet and AlexNet Algorithms will be considered.\n",
        "\n",
        "LeNet is a type of convolutional neural network (CNN) developed by Yann LeCun in the late 1980s and early 1990s. It was originally designed to recognize handwritten digits from images, and was one of the first successful applications of CNNs in this field. LeNet consists of multiple layers of interconnected neurons, with each layer responsible for extracting different features from the input data. It uses a combination of convolutional, pooling, and fully connected layers to extract relevant features and make predictions based on those features. LeNet has been widely used in various image recognition and classification tasks, and has served as a foundation for many other CNN architectures that have been developed since its inception.\n",
        "\n",
        "AlexNet is a convolutional neural network (CNN) developed by Alex Krizhevsky, Geoffrey Hinton, and Ilya Sutskever in 2012. It was the winning model in the ImageNet Large Scale Visual Recognition Challenge (ILSVRC) in 2012, and is considered a key milestone in the development of deep learning algorithms for image recognition.\n",
        "\n",
        "The AlexNet architecture consists of five convolutional layers, three fully-connected layers, and a final output layer. The convolutional layers are responsible for extracting features from the input image, while the fully-connected layers classify the image based on those features. AlexNet also introduced the use of ReLU activation functions, which greatly improved the training speed of the network compared to traditional sigmoid or tanh activation functions.\n"
      ],
      "metadata": {
        "id": "DPyRzXcGNVUQ"
      }
    },
    {
      "cell_type": "markdown",
      "source": [
        "#**Training ,Testing and Modelling of the FMNIST dataset with LeNet and AlexNet Algorithm**"
      ],
      "metadata": {
        "id": "xpNV80zmyl5l"
      }
    },
    {
      "cell_type": "markdown",
      "source": [],
      "metadata": {
        "id": "A5Oih0VWSBXk"
      }
    },
    {
      "cell_type": "code",
      "source": [
        "num_classes = 10\n",
        "\n",
        "model = Sequential()\n",
        "\n",
        "model.add(Conv2D(6, kernel_size=(3, 3), activation='relu', input_shape=(28,28,1)))\n",
        "model.add(AveragePooling2D())\n",
        "\n",
        "model.add(Conv2D(16, kernel_size=(3, 3), activation='relu'))\n",
        "model.add(AveragePooling2D())\n",
        "\n",
        "model.add(Flatten())\n",
        "\n",
        "model.add(Dense(120, activation='relu'))\n",
        "\n",
        "model.add(Dense(84, activation='relu'))\n",
        "\n",
        "model.add(Dense(num_classes, activation = 'softmax'))"
      ],
      "metadata": {
        "id": "nTLbriRXRD67"
      },
      "execution_count": null,
      "outputs": []
    },
    {
      "cell_type": "markdown",
      "source": [
        "**Compiling the CNN model**\n",
        "\n",
        "\n",
        "ADAM is an optimizer that can be used in machine learning.In this task,, I'll use the categorical_crossentropy loss function.The metric for evaluating the performance of the model will be the accuracy.\""
      ],
      "metadata": {
        "id": "I1xHeCOeTEaT"
      }
    },
    {
      "cell_type": "code",
      "source": [
        "model.compile(optimizer=\"adam\",\n",
        "              loss=\"categorical_crossentropy\",\n",
        "              metrics=[\"accuracy\"])"
      ],
      "metadata": {
        "id": "yB6OwZ8UTslZ"
      },
      "execution_count": null,
      "outputs": []
    },
    {
      "cell_type": "markdown",
      "source": [
        "**Summary of the model**\n",
        "\n",
        "it is important to show the summary of the model so as to know how many trainable parameters are contained in our model.\n"
      ],
      "metadata": {
        "id": "9A6g2Y5xTxr5"
      }
    },
    {
      "cell_type": "code",
      "source": [
        "model.summary()"
      ],
      "metadata": {
        "colab": {
          "base_uri": "https://localhost:8080/"
        },
        "id": "nYdaBantUUX2",
        "outputId": "72bdf5c6-5a3c-40b3-82f6-5760005a09be"
      },
      "execution_count": null,
      "outputs": [
        {
          "output_type": "stream",
          "name": "stdout",
          "text": [
            "Model: \"sequential\"\n",
            "_________________________________________________________________\n",
            " Layer (type)                Output Shape              Param #   \n",
            "=================================================================\n",
            " conv2d (Conv2D)             (None, 26, 26, 6)         60        \n",
            "                                                                 \n",
            " average_pooling2d (AverageP  (None, 13, 13, 6)        0         \n",
            " ooling2D)                                                       \n",
            "                                                                 \n",
            " conv2d_1 (Conv2D)           (None, 11, 11, 16)        880       \n",
            "                                                                 \n",
            " average_pooling2d_1 (Averag  (None, 5, 5, 16)         0         \n",
            " ePooling2D)                                                     \n",
            "                                                                 \n",
            " flatten (Flatten)           (None, 400)               0         \n",
            "                                                                 \n",
            " dense (Dense)               (None, 120)               48120     \n",
            "                                                                 \n",
            " dense_1 (Dense)             (None, 84)                10164     \n",
            "                                                                 \n",
            " dense_2 (Dense)             (None, 10)                850       \n",
            "                                                                 \n",
            "=================================================================\n",
            "Total params: 60,074\n",
            "Trainable params: 60,074\n",
            "Non-trainable params: 0\n",
            "_________________________________________________________________\n"
          ]
        }
      ]
    },
    {
      "cell_type": "markdown",
      "source": [
        "**Model Fitting with the training data**\n"
      ],
      "metadata": {
        "id": "MacG89HiUeV7"
      }
    },
    {
      "cell_type": "code",
      "source": [
        "tracker = model.fit(X_train, y_train,\n",
        "                    batch_size=512,\n",
        "                    epochs=100,\n",
        "                    validation_data=(X_validate, y_validate),\n",
        "                    verbose=0)"
      ],
      "metadata": {
        "id": "SM9X2zPJUo5C"
      },
      "execution_count": null,
      "outputs": []
    },
    {
      "cell_type": "markdown",
      "source": [
        "**Evaluation of the model with the test data**"
      ],
      "metadata": {
        "id": "UWnPLq6LVHuG"
      }
    },
    {
      "cell_type": "code",
      "source": [
        "score = model.evaluate(X_test, y_test, verbose=0)\n"
      ],
      "metadata": {
        "id": "mjIfXYF-VGtI"
      },
      "execution_count": null,
      "outputs": []
    },
    {
      "cell_type": "code",
      "source": [
        "print('Test loss:', score[0])\n",
        "print('Test accuracy:', score[1])"
      ],
      "metadata": {
        "colab": {
          "base_uri": "https://localhost:8080/"
        },
        "id": "1lwxY4P4V31_",
        "outputId": "695d983b-46e3-4b57-e1e0-787507c56cab"
      },
      "execution_count": null,
      "outputs": [
        {
          "output_type": "stream",
          "name": "stdout",
          "text": [
            "Test loss: 0.6008779406547546\n",
            "Test accuracy: 0.895799994468689\n"
          ]
        }
      ]
    },
    {
      "cell_type": "markdown",
      "source": [
        "**The Accuracy score using LeNet model is 0.89**"
      ],
      "metadata": {
        "id": "y3nh4ZBNoWTA"
      }
    },
    {
      "cell_type": "markdown",
      "source": [
        "**AlexNet**"
      ],
      "metadata": {
        "id": "EHSotFXFePnx"
      }
    },
    {
      "cell_type": "code",
      "source": [
        "#Define Alexnet Model\n",
        "AlexNet = Sequential()\n",
        "AlexNet.add(Conv2D(filters=16,kernel_size=(3,3),strides=(4,4),input_shape=(28,28,1), activation='relu'))\n",
        "AlexNet.add(MaxPooling2D(pool_size=(1,1),strides=(1,1)))\n",
        "AlexNet.add(Conv2D(60,(5,5),padding='same',activation='relu'))\n",
        "AlexNet.add(MaxPooling2D(pool_size=(2,2),strides=(2,2)))\n",
        "AlexNet.add(Conv2D(60,(3,3),padding='same',activation='relu'))\n",
        "AlexNet.add(Conv2D(30,(3,3),padding='same',activation='relu'))\n",
        "AlexNet.add(Conv2D(20,(3,3),padding='same',activation='relu'))\n",
        "AlexNet.add(MaxPooling2D(pool_size=(1,1),strides=(1,1)))\n",
        "AlexNet.add(Flatten())\n",
        "AlexNet.add(Dense(200, activation='relu'))\n",
        "AlexNet.add(Dropout(0.1))\n",
        "AlexNet.add(Dense(200, activation='relu'))\n",
        "AlexNet.add(Dropout(0.1))\n",
        "AlexNet.add(Dense(10,activation='softmax'))\n",
        "\n",
        "AlexNet.compile(optimizer='SGD', loss=keras.losses.sparse_categorical_crossentropy, metrics=['accuracy'])\n",
        "AlexNet.summary()"
      ],
      "metadata": {
        "colab": {
          "base_uri": "https://localhost:8080/"
        },
        "id": "b30n66wdfCFR",
        "outputId": "3c958675-16ec-431e-9198-749ea3abebdc"
      },
      "execution_count": null,
      "outputs": [
        {
          "output_type": "stream",
          "name": "stdout",
          "text": [
            "Model: \"sequential_3\"\n",
            "_________________________________________________________________\n",
            " Layer (type)                Output Shape              Param #   \n",
            "=================================================================\n",
            " conv2d_12 (Conv2D)          (None, 7, 7, 16)          160       \n",
            "                                                                 \n",
            " max_pooling2d_6 (MaxPooling  (None, 7, 7, 16)         0         \n",
            " 2D)                                                             \n",
            "                                                                 \n",
            " conv2d_13 (Conv2D)          (None, 7, 7, 60)          24060     \n",
            "                                                                 \n",
            " max_pooling2d_7 (MaxPooling  (None, 3, 3, 60)         0         \n",
            " 2D)                                                             \n",
            "                                                                 \n",
            " conv2d_14 (Conv2D)          (None, 3, 3, 60)          32460     \n",
            "                                                                 \n",
            " conv2d_15 (Conv2D)          (None, 3, 3, 30)          16230     \n",
            "                                                                 \n",
            " conv2d_16 (Conv2D)          (None, 3, 3, 20)          5420      \n",
            "                                                                 \n",
            " max_pooling2d_8 (MaxPooling  (None, 3, 3, 20)         0         \n",
            " 2D)                                                             \n",
            "                                                                 \n",
            " flatten_2 (Flatten)         (None, 180)               0         \n",
            "                                                                 \n",
            " dense_6 (Dense)             (None, 200)               36200     \n",
            "                                                                 \n",
            " dropout_2 (Dropout)         (None, 200)               0         \n",
            "                                                                 \n",
            " dense_7 (Dense)             (None, 200)               40200     \n",
            "                                                                 \n",
            " dropout_3 (Dropout)         (None, 200)               0         \n",
            "                                                                 \n",
            " dense_8 (Dense)             (None, 10)                2010      \n",
            "                                                                 \n",
            "=================================================================\n",
            "Total params: 156,740\n",
            "Trainable params: 156,740\n",
            "Non-trainable params: 0\n",
            "_________________________________________________________________\n"
          ]
        }
      ]
    },
    {
      "cell_type": "code",
      "source": [
        "tracker2 = model.fit(X_train, y_train,\n",
        "                    batch_size=512,\n",
        "                    epochs=100,\n",
        "                    validation_data=(X_validate, y_validate),\n",
        "                    verbose=0)"
      ],
      "metadata": {
        "id": "deSRnJbPfWQ4"
      },
      "execution_count": null,
      "outputs": []
    },
    {
      "cell_type": "code",
      "source": [
        "score = model.evaluate(X_test, y_test, verbose=0)"
      ],
      "metadata": {
        "id": "6DPhG915l2Ms"
      },
      "execution_count": null,
      "outputs": []
    },
    {
      "cell_type": "code",
      "source": [
        "print('Test loss:', score[0])\n",
        "print('Test accuracy:', score[1])"
      ],
      "metadata": {
        "colab": {
          "base_uri": "https://localhost:8080/"
        },
        "id": "VtiBSeccl-Vp",
        "outputId": "270c0213-7af8-4556-f975-6ed8e5e7fb2d"
      },
      "execution_count": null,
      "outputs": [
        {
          "output_type": "stream",
          "name": "stdout",
          "text": [
            "Test loss: 0.8743560314178467\n",
            "Test accuracy: 0.901199996471405\n"
          ]
        }
      ]
    },
    {
      "cell_type": "markdown",
      "source": [
        "The Accuracy score using AlexNet model is 0.90"
      ],
      "metadata": {
        "id": "THsD2x6BokqS"
      }
    },
    {
      "cell_type": "markdown",
      "source": [
        "\n",
        "\n",
        "#**Performance of the chosen Algorithm**"
      ],
      "metadata": {
        "id": "ttS2jd23y8T9"
      }
    },
    {
      "cell_type": "markdown",
      "source": [
        "**LeNet**\n",
        "\n",
        "It is of great importance to check  learning process of the model. This is done here by accessing its history with the \".history attribute\" of previously defined tracker. It is good to examine  how the loss function was developing for both the testing and validation sets. ao as to know if there is a problem with overfitting -  the test set loss function would decrease while validation's loss function after attaining a minimum value will starts to increase again."
      ],
      "metadata": {
        "id": "CEYlwt9HWexN"
      }
    },
    {
      "cell_type": "code",
      "source": [
        "fig, ax = plt.subplots(figsize = (8,6))\n",
        "ax.plot(tracker.history[\"loss\"], label = \"training_loss\")\n",
        "plt.title(\"loss by AlexNet on Data\")\n",
        "ax.plot(tracker.history[\"val_loss\"], label = \"val_loss\")\n",
        "plt.xlabel(\"epochs\")\n",
        "plt.ylabel(\"loss function\")\n",
        "ax.legend(loc = 'upper center', shadow = True,)\n",
        "plt.show()"
      ],
      "metadata": {
        "colab": {
          "base_uri": "https://localhost:8080/",
          "height": 388
        },
        "id": "sDV4RmLmXoR8",
        "outputId": "54fa990e-3994-48a9-ab7a-bb568911f3c4"
      },
      "execution_count": null,
      "outputs": [
        {
          "output_type": "display_data",
          "data": {
            "text/plain": [
              "<Figure size 576x432 with 1 Axes>"
            ],
            "image/png": "[encoded data removed]"
          },
          "metadata": {
            "needs_background": "light"
          }
        }
      ]
    },
    {
      "cell_type": "code",
      "source": [
        "fig, ax = plt.subplots(figsize=(8,6))\n",
        "ax.plot(tracker.history[\"accuracy\"], label = \"training_accuracy\")\n",
        "plt.title(\"Accuracy by LeNet on FMNIST Data\")\n",
        "ax.plot(tracker.history[\"val_accuracy\"], label = \"val_accuracy\")\n",
        "plt.xlabel(\"epochs\")\n",
        "plt.ylabel(\"accuracy\")\n",
        "ax.legend(loc = 'best', shadow = True,)\n",
        "plt.show()"
      ],
      "metadata": {
        "colab": {
          "base_uri": "https://localhost:8080/",
          "height": 388
        },
        "id": "N5WTbj0OXsbg",
        "outputId": "6e34e2df-79d7-489f-f9d9-38cf4e6d8277"
      },
      "execution_count": null,
      "outputs": [
        {
          "output_type": "display_data",
          "data": {
            "text/plain": [
              "<Figure size 576x432 with 1 Axes>"
            ],
            "image/png": "[encoded data removed]"
          },
          "metadata": {
            "needs_background": "light"
          }
        }
      ]
    },
    {
      "cell_type": "code",
      "source": [
        "fig, ax = plt.subplots(figsize = (8,6))\n",
        "ax.plot(tracker.history[\"loss\"], label = \"training_loss\")\n",
        "ax.plot(tracker.history[\"val_loss\"], label = \"val_loss\")\n",
        "plt.xlabel(\"epochs\")\n",
        "plt.title(\"loss by AlexNet on FMNIST Data\")\n",
        "plt.ylabel(\"loss function\")\n",
        "ax.legend(loc = 'upper center', shadow = True,)\n",
        "plt.show()"
      ],
      "metadata": {
        "colab": {
          "base_uri": "https://localhost:8080/",
          "height": 404
        },
        "id": "mGT_F5cQmYf3",
        "outputId": "ae00c1a1-a1cf-4163-a139-06853ea6d2d2"
      },
      "execution_count": null,
      "outputs": [
        {
          "output_type": "display_data",
          "data": {
            "text/plain": [
              "<Figure size 576x432 with 1 Axes>"
            ],
            "image/png": "[encoded data removed]"
          },
          "metadata": {
            "needs_background": "light"
          }
        }
      ]
    },
    {
      "cell_type": "code",
      "source": [
        "fig, ax = plt.subplots(figsize=(8,6))\n",
        "ax.plot(tracker.history[\"accuracy\"], label = \"training_accuracy\")\n",
        "plt.title(\"Accuracy by AlexNet on FMNIST Data\")\n",
        "ax.plot(tracker.history[\"val_accuracy\"], label = \"val_accuracy\")\n",
        "plt.xlabel(\"epochs\")\n",
        "plt.ylabel(\"accuracy\")\n",
        "ax.legend(loc = 'best', shadow = True,)\n",
        "plt.show()"
      ],
      "metadata": {
        "colab": {
          "base_uri": "https://localhost:8080/",
          "height": 404
        },
        "id": "pHZDJ9VtmYbY",
        "outputId": "71cefb29-24b1-491d-fadd-6e0aa9e50c34"
      },
      "execution_count": null,
      "outputs": [
        {
          "output_type": "display_data",
          "data": {
            "text/plain": [
              "<Figure size 576x432 with 1 Axes>"
            ],
            "image/png": "[encoded data removed]"
          },
          "metadata": {
            "needs_background": "light"
          }
        }
      ]
    },
    {
      "cell_type": "markdown",
      "source": [
        "# **conclusion**"
      ],
      "metadata": {
        "id": "RQeStPOXzHkc"
      }
    },
    {
      "cell_type": "markdown",
      "source": [
        "The performance of Lenet model is quite lesser than AlexNet model.The AlexNet model had a better accuracy of 0.90 using the FMNIST data. . "
      ],
      "metadata": {
        "id": "H4nfk-Aicy-I"
      }
    },
    {
      "cell_type": "markdown",
      "source": [
        "# **Reference**"
      ],
      "metadata": {
        "id": "TLIChEa904R_"
      }
    },
    {
      "cell_type": "markdown",
      "source": [],
      "metadata": {
        "id": "LXw-_DBBrAWt"
      }
    },
    {
      "cell_type": "markdown",
      "source": [
        "* Dataset Source: https://www.kaggle.com/datasets/zalando-research/fashionmnist?resource=download\n",
        "*classification model LeNet and AlexNet on CIFAR10: https://www.kaggle.com/code/raibabar/classification-model-lenet-and-alexnet-on-cifar10\n",
        "* Fashion MNIST classification with LeNET in Keras: https://www.kaggle.com/code/datark1/fashion-mnist-classification-with-lenet-in-keras"
      ],
      "metadata": {
        "id": "o4uBz9jYpjRg"
      }
    }
  ]
}